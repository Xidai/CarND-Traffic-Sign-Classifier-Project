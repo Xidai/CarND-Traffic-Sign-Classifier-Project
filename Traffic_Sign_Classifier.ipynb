{
 "cells": [
  {
   "cell_type": "markdown",
   "metadata": {},
   "source": [
    "# Self-Driving Car Engineer Nanodegree\n",
    "\n",
    "## Deep Learning\n",
    "\n",
    "## Project: Build a Traffic Sign Recognition Classifier\n",
    "\n",
    "In this notebook, a template is provided for you to implement your functionality in stages, which is required to successfully complete this project. If additional code is required that cannot be included in the notebook, be sure that the Python code is successfully imported and included in your submission if necessary. \n",
    "\n",
    "> **Note**: Once you have completed all of the code implementations, you need to finalize your work by exporting the iPython Notebook as an HTML document. Before exporting the notebook to html, all of the code cells need to have been run so that reviewers can see the final implementation and output. You can then export the notebook by using the menu above and navigating to  \\n\",\n",
    "    \"**File -> Download as -> HTML (.html)**. Include the finished document along with this notebook as your submission. \n",
    "\n",
    "In addition to implementing code, there is a writeup to complete. The writeup should be completed in a separate file, which can be either a markdown file or a pdf document. There is a [write up template](https://github.com/udacity/CarND-Traffic-Sign-Classifier-Project/blob/master/writeup_template.md) that can be used to guide the writing process. Completing the code template and writeup template will cover all of the [rubric points](https://review.udacity.com/#!/rubrics/481/view) for this project.\n",
    "\n",
    "The [rubric](https://review.udacity.com/#!/rubrics/481/view) contains \"Stand Out Suggestions\" for enhancing the project beyond the minimum requirements. The stand out suggestions are optional. If you decide to pursue the \"stand out suggestions\", you can include the code in this Ipython notebook and also discuss the results in the writeup file.\n",
    "\n",
    "\n",
    ">**Note:** Code and Markdown cells can be executed using the **Shift + Enter** keyboard shortcut. In addition, Markdown cells can be edited by typically double-clicking the cell to enter edit mode."
   ]
  },
  {
   "cell_type": "markdown",
   "metadata": {},
   "source": [
    "---\n",
    "## Step 0: Load The Data"
   ]
  },
  {
   "cell_type": "code",
   "execution_count": 1,
   "metadata": {
    "collapsed": false
   },
   "outputs": [],
   "source": [
    "# Load pickled data\n",
    "import pickle\n",
    "\n",
    "# TODO: Fill this in based on where you saved the training and testing data\n",
    "\n",
    "training_file = 'traffic-signs-data/train.p'\n",
    "validation_file= 'traffic-signs-data/valid.p'\n",
    "testing_file = 'traffic-signs-data/test.p'\n",
    "\n",
    "with open(training_file, mode='rb') as f:\n",
    "    train = pickle.load(f)\n",
    "with open(validation_file, mode='rb') as f:\n",
    "    valid = pickle.load(f)\n",
    "with open(testing_file, mode='rb') as f:\n",
    "    test = pickle.load(f)\n",
    "    \n",
    "X_train, y_train = train['features'], train['labels']\n",
    "X_valid, y_valid = valid['features'], valid['labels']\n",
    "X_test, y_test = test['features'], test['labels']"
   ]
  },
  {
   "cell_type": "markdown",
   "metadata": {},
   "source": [
    "---\n",
    "\n",
    "## Step 1: Dataset Summary & Exploration\n",
    "\n",
    "The pickled data is a dictionary with 4 key/value pairs:\n",
    "\n",
    "- `'features'` is a 4D array containing raw pixel data of the traffic sign images, (num examples, width, height, channels).\n",
    "- `'labels'` is a 1D array containing the label/class id of the traffic sign. The file `signnames.csv` contains id -> name mappings for each id.\n",
    "- `'sizes'` is a list containing tuples, (width, height) representing the the original width and height the image.\n",
    "- `'coords'` is a list containing tuples, (x1, y1, x2, y2) representing coordinates of a bounding box around the sign in the image. **THESE COORDINATES ASSUME THE ORIGINAL IMAGE. THE PICKLED DATA CONTAINS RESIZED VERSIONS (32 by 32) OF THESE IMAGES**\n",
    "\n",
    "Complete the basic data summary below. Use python, numpy and/or pandas methods to calculate the data summary rather than hard coding the results. For example, the [pandas shape method](http://pandas.pydata.org/pandas-docs/stable/generated/pandas.DataFrame.shape.html) might be useful for calculating some of the summary results. "
   ]
  },
  {
   "cell_type": "markdown",
   "metadata": {},
   "source": [
    "### Provide a Basic Summary of the Data Set Using Python, Numpy and/or Pandas"
   ]
  },
  {
   "cell_type": "code",
   "execution_count": 2,
   "metadata": {
    "collapsed": false
   },
   "outputs": [
    {
     "name": "stdout",
     "output_type": "stream",
     "text": [
      "Number of training examples = 34799\n",
      "Number of testing examples = 12630\n",
      "Image data shape = (32, 32, 3)\n",
      "Number of classes = 43\n"
     ]
    }
   ],
   "source": [
    "### Replace each question mark with the appropriate value. \n",
    "### Use python, pandas or numpy methods rather than hard coding the results\n",
    "\n",
    "# TODO: Number of training examples\n",
    "n_train = X_train.shape[0]\n",
    "\n",
    "# TODO: Number of testing examples.\n",
    "n_test = X_test.shape[0]\n",
    "\n",
    "# TODO: What's the shape of an traffic sign image?\n",
    "image_shape = X_train[0].shape\n",
    "\n",
    "# TODO: How many unique classes/labels there are in the dataset.\n",
    "n_classes = 43\n",
    "\n",
    "print(\"Number of training examples =\", n_train)\n",
    "print(\"Number of testing examples =\", n_test)\n",
    "print(\"Image data shape =\", image_shape)\n",
    "print(\"Number of classes =\", n_classes)"
   ]
  },
  {
   "cell_type": "markdown",
   "metadata": {},
   "source": [
    "### Include an exploratory visualization of the dataset"
   ]
  },
  {
   "cell_type": "markdown",
   "metadata": {},
   "source": [
    "Visualize the German Traffic Signs Dataset using the pickled file(s). This is open ended, suggestions include: plotting traffic sign images, plotting the count of each sign, etc.\n",
    "\n",
    "The [Matplotlib](http://matplotlib.org/) [examples](http://matplotlib.org/examples/index.html) and [gallery](http://matplotlib.org/gallery.html) pages are a great resource for doing visualizations in Python.\n",
    "\n",
    "**NOTE:** It's recommended you start with something simple first. If you wish to do more, come back to it after you've completed the rest of the sections."
   ]
  },
  {
   "cell_type": "code",
   "execution_count": 3,
   "metadata": {
    "collapsed": false
   },
   "outputs": [
    {
     "name": "stdout",
     "output_type": "stream",
     "text": [
      "13\n",
      "14\n",
      "15\n",
      "17\n",
      "18\n"
     ]
    },
    {
     "data": {
      "image/png": "[encoded data removed]",
      "text/plain": [
       "<matplotlib.figure.Figure at 0x7efe5188ae10>"
      ]
     },
     "metadata": {},
     "output_type": "display_data"
    },
    {
     "data": {
      "image/png": "[encoded data removed]",
      "text/plain": [
       "<matplotlib.figure.Figure at 0x7efe515da7f0>"
      ]
     },
     "metadata": {},
     "output_type": "display_data"
    },
    {
     "data": {
      "image/png": "[encoded data removed]",
      "text/plain": [
       "<matplotlib.figure.Figure at 0x7efe51575940>"
      ]
     },
     "metadata": {},
     "output_type": "display_data"
    },
    {
     "data": {
      "image/png": "[encoded data removed]",
      "text/plain": [
       "<matplotlib.figure.Figure at 0x7efe514fb7b8>"
      ]
     },
     "metadata": {},
     "output_type": "display_data"
    },
    {
     "data": {
      "image/png": "[encoded data removed]",
      "text/plain": [
       "<matplotlib.figure.Figure at 0x7efe514cf828>"
      ]
     },
     "metadata": {},
     "output_type": "display_data"
    }
   ],
   "source": [
    "### Data exploration visualization code goes here.\n",
    "### Feel free to use as many code cells as needed.\n",
    "import matplotlib.pyplot as plt\n",
    "import random\n",
    "import numpy as np\n",
    "# Visualizations will be shown in the notebook.\n",
    "%matplotlib inline\n",
    "\n",
    "# for i in range(5):\n",
    "#     index = random.randint(0, len(X_train))\n",
    "#     image = X_train[index].squeeze()\n",
    "\n",
    "#     plt.figure(figsize=(1,1))\n",
    "#     plt.imshow(image, cmap=\"gray\")\n",
    "#     print(y_train[index])\n",
    "\n",
    "# count = [0] * n_classes\n",
    "# for i in range(len(y_train)):\n",
    "#     count[y_train[i]] += 1\n",
    "# for i in range(len(count)):\n",
    "#     print(i, count[i])\n",
    "\n",
    "result = [13, 14, 15, 17, 18]\n",
    "for entry in result:\n",
    "    index = np.where(y_train==[entry])[0][200]\n",
    "    print(entry)\n",
    "    image = X_train[index].squeeze()\n",
    "    plt.figure(figsize=(1,1))\n",
    "    plt.imshow(image, cmap=\"gray\")"
   ]
  },
  {
   "cell_type": "markdown",
   "metadata": {},
   "source": [
    "----\n",
    "\n",
    "## Step 2: Design and Test a Model Architecture\n",
    "\n",
    "Design and implement a deep learning model that learns to recognize traffic signs. Train and test your model on the [German Traffic Sign Dataset](http://benchmark.ini.rub.de/?section=gtsrb&subsection=dataset).\n",
    "\n",
    "There are various aspects to consider when thinking about this problem:\n",
    "\n",
    "- Neural network architecture\n",
    "- Play around preprocessing techniques (normalization, rgb to grayscale, etc)\n",
    "- Number of examples per label (some have more than others).\n",
    "- Generate fake data.\n",
    "\n",
    "Here is an example of a [published baseline model on this problem](http://yann.lecun.com/exdb/publis/pdf/sermanet-ijcnn-11.pdf). It's not required to be familiar with the approach used in the paper but, it's good practice to try to read papers like these.\n",
    "\n",
    "**NOTE:** The LeNet-5 implementation shown in the [classroom](https://classroom.udacity.com/nanodegrees/nd013/parts/fbf77062-5703-404e-b60c-95b78b2f3f9e/modules/6df7ae49-c61c-4bb2-a23e-6527e69209ec/lessons/601ae704-1035-4287-8b11-e2c2716217ad/concepts/d4aca031-508f-4e0b-b493-e7b706120f81) at the end of the CNN lesson is a solid starting point. You'll have to change the number of classes and possibly the preprocessing, but aside from that it's plug and play!"
   ]
  },
  {
   "cell_type": "markdown",
   "metadata": {},
   "source": [
    "### Pre-process the Data Set (normalization, grayscale, etc.)"
   ]
  },
  {
   "cell_type": "markdown",
   "metadata": {},
   "source": [
    "Use the code cell (or multiple code cells, if necessary) to implement the first step of your project."
   ]
  },
  {
   "cell_type": "code",
   "execution_count": 4,
   "metadata": {
    "collapsed": false
   },
   "outputs": [
    {
     "name": "stdout",
     "output_type": "stream",
     "text": [
      "(34799, 32, 32, 1)\n"
     ]
    }
   ],
   "source": [
    "### Preprocess the data here. Preprocessing steps could include normalization, converting to grayscale, etc.\n",
    "### Feel free to use as many code cells as needed.\n",
    "from sklearn.utils import shuffle\n",
    "import cv2\n",
    "import numpy as np\n",
    "\n",
    "def pre_process_dataset (data):\n",
    "#     return data\n",
    "    normalized = np.array([ cv2.cvtColor(x, cv2.COLOR_RGB2GRAY) for x in data])/255\n",
    "    normalized = normalized[..., np.newaxis]\n",
    "    return normalized\n",
    "\n",
    "X_train, y_train = shuffle(X_train, y_train)\n",
    "X_train = pre_process_dataset(X_train)\n",
    "X_test = pre_process_dataset(X_test)\n",
    "X_valid = pre_process_dataset(X_valid)\n",
    "print(X_train.shape)"
   ]
  },
  {
   "cell_type": "markdown",
   "metadata": {},
   "source": [
    "### Model Architecture"
   ]
  },
  {
   "cell_type": "code",
   "execution_count": 5,
   "metadata": {
    "collapsed": true
   },
   "outputs": [],
   "source": [
    "### Define your architecture here.\n",
    "### Feel free to use as many code cells as needed.\n",
    "import tensorflow as tf\n",
    "from tensorflow.contrib.layers import flatten\n",
    "\n",
    "def LeNet(x, keep_prob):    \n",
    "    # Arguments used for tf.truncated_normal, randomly defines variables for the weights and biases for each layer\n",
    "    mu = 0\n",
    "    sigma = 0.1\n",
    "    \n",
    "    # SOLUTION: Layer 1: Convolutional. Input = 32x32x1. Output = 28x28x6.\n",
    "    conv1_W = tf.Variable(tf.truncated_normal(shape=(5, 5, 1, 6), mean = mu, stddev = sigma))\n",
    "    conv1_b = tf.Variable(tf.zeros(6))\n",
    "    conv1   = tf.nn.conv2d(x, conv1_W, strides=[1, 1, 1, 1], padding='VALID') + conv1_b\n",
    "\n",
    "    # SOLUTION: Activation.\n",
    "    conv1 = tf.nn.relu(conv1)\n",
    "    conv1 = tf.nn.dropout(conv1, keep_prob)\n",
    "\n",
    "    # SOLUTION: Pooling. Input = 28x28x6. Output = 14x14x6.\n",
    "    conv1 = tf.nn.max_pool(conv1, ksize=[1, 2, 2, 1], strides=[1, 2, 2, 1], padding='VALID')\n",
    "    \n",
    "    \n",
    "    # SOLUTION: Layer 2: Convolutional. Output = 10x10x16.\n",
    "    conv2_W = tf.Variable(tf.truncated_normal(shape=(5, 5, 6, 16), mean = mu, stddev = sigma))\n",
    "    conv2_b = tf.Variable(tf.zeros(16))\n",
    "    conv2   = tf.nn.conv2d(conv1, conv2_W, strides=[1, 1, 1, 1], padding='VALID') + conv2_b\n",
    "    \n",
    "    # SOLUTION: Activation.\n",
    "    conv2 = tf.nn.relu(conv2)\n",
    "    conv2 = tf.nn.dropout(conv2, keep_prob)\n",
    "\n",
    "    # SOLUTION: Pooling. Input = 10x10x16. Output = 5x5x16.\n",
    "    conv2 = tf.nn.max_pool(conv2, ksize=[1, 2, 2, 1], strides=[1, 2, 2, 1], padding='VALID')\n",
    "\n",
    "    # SOLUTION: Flatten. Input = 5x5x16. Output = 400.\n",
    "    fc0   = flatten(conv2)\n",
    "    \n",
    "    # SOLUTION: Layer 3: Fully Connected. Input = 400. Output = 120.\n",
    "    fc1_W = tf.Variable(tf.truncated_normal(shape=(400, 120), mean = mu, stddev = sigma))\n",
    "    fc1_b = tf.Variable(tf.zeros(120))\n",
    "    fc1   = tf.matmul(fc0, fc1_W) + fc1_b\n",
    "    \n",
    "    # SOLUTION: Activation.\n",
    "    fc1    = tf.nn.relu(fc1)\n",
    "\n",
    "    # SOLUTION: Layer 4: Fully Connected. Input = 120. Output = 84.\n",
    "    fc2_W  = tf.Variable(tf.truncated_normal(shape=(120, 84), mean = mu, stddev = sigma))\n",
    "    fc2_b  = tf.Variable(tf.zeros(84))\n",
    "    fc2    = tf.matmul(fc1, fc2_W) + fc2_b\n",
    "    \n",
    "    # SOLUTION: Activation.\n",
    "    fc2    = tf.nn.relu(fc2)\n",
    "    fc2    = tf.nn.dropout(fc2, keep_prob)\n",
    "\n",
    "    # SOLUTION: Layer 5: Fully Connected. Input = 84. Output = 43.\n",
    "    fc3_W  = tf.Variable(tf.truncated_normal(shape=(84, n_classes), mean = mu, stddev = sigma))\n",
    "    fc3_b  = tf.Variable(tf.zeros(n_classes))\n",
    "    logits = tf.matmul(fc2, fc3_W) + fc3_b\n",
    "    \n",
    "    return logits"
   ]
  },
  {
   "cell_type": "markdown",
   "metadata": {},
   "source": [
    "### Train, Validate and Test the Model"
   ]
  },
  {
   "cell_type": "markdown",
   "metadata": {},
   "source": [
    "A validation set can be used to assess how well the model is performing. A low accuracy on the training and validation\n",
    "sets imply underfitting. A high accuracy on the test set but low accuracy on the validation set implies overfitting."
   ]
  },
  {
   "cell_type": "code",
   "execution_count": 6,
   "metadata": {
    "collapsed": false
   },
   "outputs": [],
   "source": [
    "### Train your model here.\n",
    "### Calculate and report the accuracy on the training and validation set.\n",
    "### Once a final model architecture is selected, \n",
    "### the accuracy on the test set should be calculated and reported as well.\n",
    "### Feel free to use as many code cells as needed.\n",
    "\n",
    "#Features and Labels\n",
    "x = tf.placeholder(tf.float32, (None, 32, 32, 1))\n",
    "y = tf.placeholder(tf.int32, (None))\n",
    "one_hot_y = tf.one_hot(y, n_classes)\n",
    "\n",
    "\n",
    "# Train Pipeline\n",
    "rate = 0.001\n",
    "\n",
    "EPOCHS = 200\n",
    "BATCH_SIZE = 128\n",
    "keep_prob = tf.placeholder(tf.float32)\n",
    "\n",
    "logits = LeNet(x, keep_prob)\n",
    "cross_entropy = tf.nn.softmax_cross_entropy_with_logits(logits, one_hot_y)\n",
    "loss_operation = tf.reduce_mean(cross_entropy)\n",
    "optimizer = tf.train.AdamOptimizer(learning_rate = rate)\n",
    "training_operation = optimizer.minimize(loss_operation)\n",
    "\n",
    "# Modal Evaluation\n",
    "correct_prediction = tf.equal(tf.argmax(logits, 1), tf.argmax(one_hot_y, 1))\n",
    "accuracy_operation = tf.reduce_mean(tf.cast(correct_prediction, tf.float32))\n",
    "saver = tf.train.Saver()\n",
    "\n",
    "def evaluate(X_data, y_data):\n",
    "    num_examples = len(X_data)\n",
    "    total_accuracy = 0\n",
    "    sess = tf.get_default_session()\n",
    "    for offset in range(0, num_examples, BATCH_SIZE):\n",
    "        batch_x, batch_y = X_data[offset:offset+BATCH_SIZE], y_data[offset:offset+BATCH_SIZE]\n",
    "        accuracy = sess.run(accuracy_operation, feed_dict={x: batch_x, y: batch_y, keep_prob: 1})\n",
    "        total_accuracy += (accuracy * len(batch_x))\n",
    "    return total_accuracy / num_examples"
   ]
  },
  {
   "cell_type": "code",
   "execution_count": 7,
   "metadata": {
    "collapsed": false
   },
   "outputs": [
    {
     "name": "stdout",
     "output_type": "stream",
     "text": [
      "Training...\n",
      "\n",
      "EPOCH 1 ...\n",
      "Validation Accuracy = 0.599\n",
      "\n",
      "EPOCH 2 ...\n",
      "Validation Accuracy = 0.729\n",
      "\n",
      "EPOCH 3 ...\n",
      "Validation Accuracy = 0.817\n",
      "\n",
      "EPOCH 4 ...\n",
      "Validation Accuracy = 0.854\n",
      "\n",
      "EPOCH 5 ...\n",
      "Validation Accuracy = 0.877\n",
      "\n",
      "EPOCH 6 ...\n",
      "Validation Accuracy = 0.882\n",
      "\n",
      "EPOCH 7 ...\n",
      "Validation Accuracy = 0.904\n",
      "\n",
      "EPOCH 8 ...\n",
      "Validation Accuracy = 0.909\n",
      "\n",
      "EPOCH 9 ...\n",
      "Validation Accuracy = 0.912\n",
      "\n",
      "EPOCH 10 ...\n",
      "Validation Accuracy = 0.921\n",
      "\n",
      "EPOCH 11 ...\n",
      "Validation Accuracy = 0.920\n",
      "\n",
      "EPOCH 12 ...\n",
      "Validation Accuracy = 0.920\n",
      "\n",
      "EPOCH 13 ...\n",
      "Validation Accuracy = 0.916\n",
      "\n",
      "EPOCH 14 ...\n",
      "Validation Accuracy = 0.918\n",
      "\n",
      "EPOCH 15 ...\n",
      "Validation Accuracy = 0.924\n",
      "\n",
      "EPOCH 16 ...\n",
      "Validation Accuracy = 0.921\n",
      "\n",
      "EPOCH 17 ...\n",
      "Validation Accuracy = 0.927\n",
      "\n",
      "EPOCH 18 ...\n",
      "Validation Accuracy = 0.921\n",
      "\n",
      "EPOCH 19 ...\n",
      "Validation Accuracy = 0.923\n",
      "\n",
      "EPOCH 20 ...\n",
      "Validation Accuracy = 0.933\n",
      "\n",
      "EPOCH 21 ...\n",
      "Validation Accuracy = 0.934\n",
      "\n",
      "EPOCH 22 ...\n",
      "Validation Accuracy = 0.922\n",
      "\n",
      "EPOCH 23 ...\n",
      "Validation Accuracy = 0.925\n",
      "\n",
      "EPOCH 24 ...\n",
      "Validation Accuracy = 0.927\n",
      "\n",
      "EPOCH 25 ...\n",
      "Validation Accuracy = 0.946\n",
      "\n",
      "EPOCH 26 ...\n",
      "Validation Accuracy = 0.932\n",
      "\n",
      "EPOCH 27 ...\n",
      "Validation Accuracy = 0.930\n",
      "\n",
      "EPOCH 28 ...\n",
      "Validation Accuracy = 0.936\n",
      "\n",
      "EPOCH 29 ...\n",
      "Validation Accuracy = 0.935\n",
      "\n",
      "EPOCH 30 ...\n",
      "Validation Accuracy = 0.934\n",
      "\n",
      "EPOCH 31 ...\n",
      "Validation Accuracy = 0.932\n",
      "\n",
      "EPOCH 32 ...\n",
      "Validation Accuracy = 0.930\n",
      "\n",
      "EPOCH 33 ...\n",
      "Validation Accuracy = 0.937\n",
      "\n",
      "EPOCH 34 ...\n",
      "Validation Accuracy = 0.935\n",
      "\n",
      "EPOCH 35 ...\n",
      "Validation Accuracy = 0.934\n",
      "\n",
      "EPOCH 36 ...\n",
      "Validation Accuracy = 0.940\n",
      "\n",
      "EPOCH 37 ...\n",
      "Validation Accuracy = 0.938\n",
      "\n",
      "EPOCH 38 ...\n",
      "Validation Accuracy = 0.929\n",
      "\n",
      "EPOCH 39 ...\n",
      "Validation Accuracy = 0.936\n",
      "\n",
      "EPOCH 40 ...\n",
      "Validation Accuracy = 0.933\n",
      "\n",
      "EPOCH 41 ...\n",
      "Validation Accuracy = 0.942\n",
      "\n",
      "EPOCH 42 ...\n",
      "Validation Accuracy = 0.934\n",
      "\n",
      "EPOCH 43 ...\n",
      "Validation Accuracy = 0.919\n",
      "\n",
      "EPOCH 44 ...\n",
      "Validation Accuracy = 0.944\n",
      "\n",
      "EPOCH 45 ...\n",
      "Validation Accuracy = 0.939\n",
      "\n",
      "EPOCH 46 ...\n",
      "Validation Accuracy = 0.933\n",
      "\n",
      "EPOCH 47 ...\n",
      "Validation Accuracy = 0.946\n",
      "\n",
      "EPOCH 48 ...\n",
      "Validation Accuracy = 0.931\n",
      "\n",
      "EPOCH 49 ...\n",
      "Validation Accuracy = 0.931\n",
      "\n",
      "EPOCH 50 ...\n",
      "Validation Accuracy = 0.944\n",
      "\n",
      "EPOCH 51 ...\n",
      "Validation Accuracy = 0.937\n",
      "\n",
      "EPOCH 52 ...\n",
      "Validation Accuracy = 0.932\n",
      "\n",
      "EPOCH 53 ...\n",
      "Validation Accuracy = 0.933\n",
      "\n",
      "EPOCH 54 ...\n",
      "Validation Accuracy = 0.933\n",
      "\n",
      "EPOCH 55 ...\n",
      "Validation Accuracy = 0.928\n",
      "\n",
      "EPOCH 56 ...\n",
      "Validation Accuracy = 0.926\n",
      "\n",
      "EPOCH 57 ...\n",
      "Validation Accuracy = 0.941\n",
      "\n",
      "EPOCH 58 ...\n",
      "Validation Accuracy = 0.936\n",
      "\n",
      "EPOCH 59 ...\n",
      "Validation Accuracy = 0.931\n",
      "\n",
      "EPOCH 60 ...\n",
      "Validation Accuracy = 0.935\n",
      "\n",
      "EPOCH 61 ...\n",
      "Validation Accuracy = 0.944\n",
      "\n",
      "EPOCH 62 ...\n",
      "Validation Accuracy = 0.939\n",
      "\n",
      "EPOCH 63 ...\n",
      "Validation Accuracy = 0.935\n",
      "\n",
      "EPOCH 64 ...\n",
      "Validation Accuracy = 0.932\n",
      "\n",
      "EPOCH 65 ...\n",
      "Validation Accuracy = 0.943\n",
      "\n",
      "EPOCH 66 ...\n",
      "Validation Accuracy = 0.936\n",
      "\n",
      "EPOCH 67 ...\n",
      "Validation Accuracy = 0.936\n",
      "\n",
      "EPOCH 68 ...\n",
      "Validation Accuracy = 0.939\n",
      "\n",
      "EPOCH 69 ...\n",
      "Validation Accuracy = 0.943\n",
      "\n",
      "EPOCH 70 ...\n",
      "Validation Accuracy = 0.935\n",
      "\n",
      "EPOCH 71 ...\n",
      "Validation Accuracy = 0.944\n",
      "\n",
      "EPOCH 72 ...\n",
      "Validation Accuracy = 0.936\n",
      "\n",
      "EPOCH 73 ...\n",
      "Validation Accuracy = 0.943\n",
      "\n",
      "EPOCH 74 ...\n",
      "Validation Accuracy = 0.940\n",
      "\n",
      "EPOCH 75 ...\n",
      "Validation Accuracy = 0.938\n",
      "\n",
      "EPOCH 76 ...\n",
      "Validation Accuracy = 0.931\n",
      "\n",
      "EPOCH 77 ...\n",
      "Validation Accuracy = 0.930\n",
      "\n",
      "EPOCH 78 ...\n",
      "Validation Accuracy = 0.941\n",
      "\n",
      "EPOCH 79 ...\n",
      "Validation Accuracy = 0.930\n",
      "\n",
      "EPOCH 80 ...\n",
      "Validation Accuracy = 0.939\n",
      "\n",
      "EPOCH 81 ...\n",
      "Validation Accuracy = 0.940\n",
      "\n",
      "EPOCH 82 ...\n",
      "Validation Accuracy = 0.938\n",
      "\n",
      "EPOCH 83 ...\n",
      "Validation Accuracy = 0.941\n",
      "\n",
      "EPOCH 84 ...\n",
      "Validation Accuracy = 0.944\n",
      "\n",
      "EPOCH 85 ...\n",
      "Validation Accuracy = 0.938\n",
      "\n",
      "EPOCH 86 ...\n",
      "Validation Accuracy = 0.925\n",
      "\n",
      "EPOCH 87 ...\n",
      "Validation Accuracy = 0.929\n",
      "\n",
      "EPOCH 88 ...\n",
      "Validation Accuracy = 0.933\n",
      "\n",
      "EPOCH 89 ...\n",
      "Validation Accuracy = 0.931\n",
      "\n",
      "EPOCH 90 ...\n",
      "Validation Accuracy = 0.942\n",
      "\n",
      "EPOCH 91 ...\n",
      "Validation Accuracy = 0.937\n",
      "\n",
      "EPOCH 92 ...\n",
      "Validation Accuracy = 0.928\n",
      "\n",
      "EPOCH 93 ...\n",
      "Validation Accuracy = 0.933\n",
      "\n",
      "EPOCH 94 ...\n",
      "Validation Accuracy = 0.946\n",
      "\n",
      "EPOCH 95 ...\n",
      "Validation Accuracy = 0.940\n",
      "\n",
      "EPOCH 96 ...\n",
      "Validation Accuracy = 0.932\n",
      "\n",
      "EPOCH 97 ...\n",
      "Validation Accuracy = 0.939\n",
      "\n",
      "EPOCH 98 ...\n",
      "Validation Accuracy = 0.935\n",
      "\n",
      "EPOCH 99 ...\n",
      "Validation Accuracy = 0.930\n",
      "\n",
      "EPOCH 100 ...\n",
      "Validation Accuracy = 0.942\n",
      "\n",
      "EPOCH 101 ...\n",
      "Validation Accuracy = 0.942\n",
      "\n",
      "EPOCH 102 ...\n",
      "Validation Accuracy = 0.939\n",
      "\n",
      "EPOCH 103 ...\n",
      "Validation Accuracy = 0.929\n",
      "\n",
      "EPOCH 104 ...\n",
      "Validation Accuracy = 0.938\n",
      "\n",
      "EPOCH 105 ...\n",
      "Validation Accuracy = 0.938\n",
      "\n",
      "EPOCH 106 ...\n",
      "Validation Accuracy = 0.939\n",
      "\n",
      "EPOCH 107 ...\n",
      "Validation Accuracy = 0.947\n",
      "\n",
      "EPOCH 108 ...\n",
      "Validation Accuracy = 0.937\n",
      "\n",
      "EPOCH 109 ...\n",
      "Validation Accuracy = 0.946\n",
      "\n",
      "EPOCH 110 ...\n",
      "Validation Accuracy = 0.946\n",
      "\n",
      "EPOCH 111 ...\n",
      "Validation Accuracy = 0.939\n",
      "\n",
      "EPOCH 112 ...\n",
      "Validation Accuracy = 0.938\n",
      "\n",
      "EPOCH 113 ...\n",
      "Validation Accuracy = 0.943\n",
      "\n",
      "EPOCH 114 ...\n",
      "Validation Accuracy = 0.937\n",
      "\n",
      "EPOCH 115 ...\n",
      "Validation Accuracy = 0.944\n",
      "\n",
      "EPOCH 116 ...\n",
      "Validation Accuracy = 0.937\n",
      "\n",
      "EPOCH 117 ...\n",
      "Validation Accuracy = 0.945\n",
      "\n",
      "EPOCH 118 ...\n",
      "Validation Accuracy = 0.937\n",
      "\n",
      "EPOCH 119 ...\n",
      "Validation Accuracy = 0.950\n",
      "\n",
      "EPOCH 120 ...\n",
      "Validation Accuracy = 0.942\n",
      "\n",
      "EPOCH 121 ...\n",
      "Validation Accuracy = 0.939\n",
      "\n",
      "EPOCH 122 ...\n",
      "Validation Accuracy = 0.930\n",
      "\n",
      "EPOCH 123 ...\n",
      "Validation Accuracy = 0.936\n",
      "\n",
      "EPOCH 124 ...\n",
      "Validation Accuracy = 0.945\n",
      "\n",
      "EPOCH 125 ...\n",
      "Validation Accuracy = 0.939\n",
      "\n",
      "EPOCH 126 ...\n",
      "Validation Accuracy = 0.938\n",
      "\n",
      "EPOCH 127 ...\n",
      "Validation Accuracy = 0.940\n",
      "\n",
      "EPOCH 128 ...\n",
      "Validation Accuracy = 0.935\n",
      "\n",
      "EPOCH 129 ...\n",
      "Validation Accuracy = 0.931\n",
      "\n",
      "EPOCH 130 ...\n",
      "Validation Accuracy = 0.940\n",
      "\n",
      "EPOCH 131 ...\n",
      "Validation Accuracy = 0.929\n",
      "\n",
      "EPOCH 132 ...\n",
      "Validation Accuracy = 0.937\n",
      "\n",
      "EPOCH 133 ...\n",
      "Validation Accuracy = 0.930\n",
      "\n",
      "EPOCH 134 ...\n",
      "Validation Accuracy = 0.929\n",
      "\n",
      "EPOCH 135 ...\n",
      "Validation Accuracy = 0.944\n",
      "\n",
      "EPOCH 136 ...\n",
      "Validation Accuracy = 0.933\n",
      "\n",
      "EPOCH 137 ...\n",
      "Validation Accuracy = 0.938\n",
      "\n",
      "EPOCH 138 ...\n",
      "Validation Accuracy = 0.945\n",
      "\n",
      "EPOCH 139 ...\n",
      "Validation Accuracy = 0.945\n",
      "\n",
      "EPOCH 140 ...\n",
      "Validation Accuracy = 0.947\n",
      "\n",
      "EPOCH 141 ...\n",
      "Validation Accuracy = 0.947\n",
      "\n",
      "EPOCH 142 ...\n",
      "Validation Accuracy = 0.945\n",
      "\n",
      "EPOCH 143 ...\n",
      "Validation Accuracy = 0.944\n",
      "\n",
      "EPOCH 144 ...\n",
      "Validation Accuracy = 0.939\n",
      "\n",
      "EPOCH 145 ...\n",
      "Validation Accuracy = 0.930\n",
      "\n",
      "EPOCH 146 ...\n",
      "Validation Accuracy = 0.938\n",
      "\n",
      "EPOCH 147 ...\n",
      "Validation Accuracy = 0.931\n",
      "\n",
      "EPOCH 148 ...\n",
      "Validation Accuracy = 0.956\n",
      "\n",
      "EPOCH 149 ...\n",
      "Validation Accuracy = 0.936\n",
      "\n",
      "EPOCH 150 ...\n",
      "Validation Accuracy = 0.948\n",
      "\n",
      "EPOCH 151 ...\n",
      "Validation Accuracy = 0.948\n",
      "\n",
      "EPOCH 152 ...\n",
      "Validation Accuracy = 0.941\n",
      "\n",
      "EPOCH 153 ...\n",
      "Validation Accuracy = 0.941\n",
      "\n",
      "EPOCH 154 ...\n",
      "Validation Accuracy = 0.948\n",
      "\n",
      "EPOCH 155 ...\n",
      "Validation Accuracy = 0.944\n",
      "\n",
      "EPOCH 156 ...\n",
      "Validation Accuracy = 0.934\n",
      "\n",
      "EPOCH 157 ...\n",
      "Validation Accuracy = 0.934\n",
      "\n",
      "EPOCH 158 ...\n",
      "Validation Accuracy = 0.938\n",
      "\n",
      "EPOCH 159 ...\n",
      "Validation Accuracy = 0.937\n",
      "\n",
      "EPOCH 160 ...\n",
      "Validation Accuracy = 0.951\n",
      "\n",
      "EPOCH 161 ...\n",
      "Validation Accuracy = 0.942\n",
      "\n",
      "EPOCH 162 ...\n",
      "Validation Accuracy = 0.931\n",
      "\n",
      "EPOCH 163 ...\n",
      "Validation Accuracy = 0.923\n",
      "\n",
      "EPOCH 164 ...\n",
      "Validation Accuracy = 0.947\n",
      "\n",
      "EPOCH 165 ...\n",
      "Validation Accuracy = 0.939\n",
      "\n",
      "EPOCH 166 ...\n",
      "Validation Accuracy = 0.941\n",
      "\n",
      "EPOCH 167 ...\n",
      "Validation Accuracy = 0.932\n",
      "\n",
      "EPOCH 168 ...\n",
      "Validation Accuracy = 0.941\n",
      "\n",
      "EPOCH 169 ...\n",
      "Validation Accuracy = 0.944\n",
      "\n",
      "EPOCH 170 ...\n",
      "Validation Accuracy = 0.944\n",
      "\n",
      "EPOCH 171 ...\n",
      "Validation Accuracy = 0.938\n",
      "\n",
      "EPOCH 172 ...\n",
      "Validation Accuracy = 0.955\n",
      "\n",
      "EPOCH 173 ...\n",
      "Validation Accuracy = 0.944\n",
      "\n",
      "EPOCH 174 ...\n",
      "Validation Accuracy = 0.942\n",
      "\n",
      "EPOCH 175 ...\n",
      "Validation Accuracy = 0.945\n",
      "\n",
      "EPOCH 176 ...\n",
      "Validation Accuracy = 0.948\n",
      "\n",
      "EPOCH 177 ...\n",
      "Validation Accuracy = 0.939\n",
      "\n",
      "EPOCH 178 ...\n",
      "Validation Accuracy = 0.946\n",
      "\n",
      "EPOCH 179 ...\n",
      "Validation Accuracy = 0.942\n",
      "\n",
      "EPOCH 180 ...\n",
      "Validation Accuracy = 0.948\n",
      "\n",
      "EPOCH 181 ...\n",
      "Validation Accuracy = 0.943\n",
      "\n",
      "EPOCH 182 ...\n",
      "Validation Accuracy = 0.938\n",
      "\n",
      "EPOCH 183 ...\n",
      "Validation Accuracy = 0.937\n",
      "\n",
      "EPOCH 184 ...\n",
      "Validation Accuracy = 0.945\n",
      "\n",
      "EPOCH 185 ...\n",
      "Validation Accuracy = 0.940\n",
      "\n",
      "EPOCH 186 ...\n",
      "Validation Accuracy = 0.940\n",
      "\n",
      "EPOCH 187 ...\n",
      "Validation Accuracy = 0.944\n",
      "\n",
      "EPOCH 188 ...\n",
      "Validation Accuracy = 0.934\n",
      "\n",
      "EPOCH 189 ...\n",
      "Validation Accuracy = 0.939\n",
      "\n",
      "EPOCH 190 ...\n",
      "Validation Accuracy = 0.941\n",
      "\n",
      "EPOCH 191 ...\n",
      "Validation Accuracy = 0.941\n",
      "\n",
      "EPOCH 192 ...\n",
      "Validation Accuracy = 0.942\n",
      "\n",
      "EPOCH 193 ...\n",
      "Validation Accuracy = 0.943\n",
      "\n",
      "EPOCH 194 ...\n",
      "Validation Accuracy = 0.943\n",
      "\n",
      "EPOCH 195 ...\n",
      "Validation Accuracy = 0.938\n",
      "\n",
      "EPOCH 196 ...\n",
      "Validation Accuracy = 0.940\n",
      "\n",
      "EPOCH 197 ...\n",
      "Validation Accuracy = 0.934\n",
      "\n",
      "EPOCH 198 ...\n",
      "Validation Accuracy = 0.943\n",
      "\n",
      "EPOCH 199 ...\n",
      "Validation Accuracy = 0.949\n",
      "\n",
      "EPOCH 200 ...\n",
      "Validation Accuracy = 0.945\n",
      "\n",
      "Model saved\n"
     ]
    }
   ],
   "source": [
    "# Train the Modal\n",
    "with tf.Session() as sess:\n",
    "    sess.run(tf.global_variables_initializer())\n",
    "    num_examples = len(X_train)\n",
    "    \n",
    "    print(\"Training...\")\n",
    "    print()\n",
    "    for i in range(EPOCHS):\n",
    "        X_train, y_train = shuffle(X_train, y_train)\n",
    "        for offset in range(0, num_examples, BATCH_SIZE):\n",
    "            end = offset + BATCH_SIZE\n",
    "            batch_x, batch_y = X_train[offset:end], y_train[offset:end]\n",
    "            sess.run(training_operation, feed_dict={x: batch_x, y: batch_y, keep_prob: 0.5})\n",
    "            \n",
    "        validation_accuracy = evaluate(X_valid, y_valid)\n",
    "        print(\"EPOCH {} ...\".format(i+1))\n",
    "        print(\"Validation Accuracy = {:.3f}\".format(validation_accuracy))\n",
    "        print()\n",
    "        \n",
    "    saver.save(sess, './traffic-sign')\n",
    "    print(\"Model saved\")"
   ]
  },
  {
   "cell_type": "markdown",
   "metadata": {},
   "source": [
    "---\n",
    "\n",
    "## Step 3: Test a Model on New Images\n",
    "\n",
    "To give yourself more insight into how your model is working, download at least five pictures of German traffic signs from the web and use your model to predict the traffic sign type.\n",
    "\n",
    "You may find `signnames.csv` useful as it contains mappings from the class id (integer) to the actual sign name."
   ]
  },
  {
   "cell_type": "markdown",
   "metadata": {},
   "source": [
    "### Load and Output the Images"
   ]
  },
  {
   "cell_type": "code",
   "execution_count": 11,
   "metadata": {
    "collapsed": false
   },
   "outputs": [
    {
     "name": "stdout",
     "output_type": "stream",
     "text": [
      "(5, 32, 32, 3)\n",
      "[18, 13, 14, 17, 15]\n"
     ]
    },
    {
     "data": {
      "image/png": "[encoded data removed]",
      "text/plain": [
       "<matplotlib.figure.Figure at 0x7efe28471f28>"
      ]
     },
     "metadata": {},
     "output_type": "display_data"
    },
    {
     "data": {
      "image/png": "[encoded data removed]",
      "text/plain": [
       "<matplotlib.figure.Figure at 0x7efe286960b8>"
      ]
     },
     "metadata": {},
     "output_type": "display_data"
    },
    {
     "data": {
      "image/png": "[encoded data removed]",
      "text/plain": [
       "<matplotlib.figure.Figure at 0x7efe2862b588>"
      ]
     },
     "metadata": {},
     "output_type": "display_data"
    },
    {
     "data": {
      "image/png": "[encoded data removed]",
      "text/plain": [
       "<matplotlib.figure.Figure at 0x7efe285aec88>"
      ]
     },
     "metadata": {},
     "output_type": "display_data"
    },
    {
     "data": {
      "image/png": "[encoded data removed]",
      "text/plain": [
       "<matplotlib.figure.Figure at 0x7efe28586198>"
      ]
     },
     "metadata": {},
     "output_type": "display_data"
    }
   ],
   "source": [
    "### Load the images and plot them here.\n",
    "### Feel free to use as many code cells as needed.\n",
    "import matplotlib.image as mpimg\n",
    "import matplotlib.pyplot as plt\n",
    "import os\n",
    "import numpy as np\n",
    "%matplotlib inline\n",
    "\n",
    "X_my_test = []\n",
    "y_my_test = []\n",
    "dirs = 'more-signs/'\n",
    "for path in os.listdir(dirs):\n",
    "    image = mpimg.imread(dirs+path)\n",
    "    X_my_test.append(image)\n",
    "    y_my_test.append(int(path.split('.')[0]))\n",
    "\n",
    "    plt.figure(figsize=(1,1))\n",
    "    plt.imshow(image, cmap=\"gray\")\n",
    "\n",
    "print(np.array(X_my_test).shape)\n",
    "print(y_my_test)"
   ]
  },
  {
   "cell_type": "markdown",
   "metadata": {},
   "source": [
    "### Predict the Sign Type for Each Image"
   ]
  },
  {
   "cell_type": "code",
   "execution_count": 12,
   "metadata": {
    "collapsed": false
   },
   "outputs": [
    {
     "name": "stdout",
     "output_type": "stream",
     "text": [
      "expectations\n",
      "[18 13 14 17 15]\n",
      "results\n",
      "[30 13  2 17  1]\n"
     ]
    },
    {
     "data": {
      "image/png": "[encoded data removed]",
      "text/plain": [
       "<matplotlib.figure.Figure at 0x7efdf00c3eb8>"
      ]
     },
     "metadata": {},
     "output_type": "display_data"
    },
    {
     "data": {
      "image/png": "[encoded data removed]",
      "text/plain": [
       "<matplotlib.figure.Figure at 0x7efe285a1da0>"
      ]
     },
     "metadata": {},
     "output_type": "display_data"
    },
    {
     "data": {
      "image/png": "[encoded data removed]",
      "text/plain": [
       "<matplotlib.figure.Figure at 0x7efe286ed908>"
      ]
     },
     "metadata": {},
     "output_type": "display_data"
    },
    {
     "data": {
      "image/png": "[encoded data removed]",
      "text/plain": [
       "<matplotlib.figure.Figure at 0x7efe28488668>"
      ]
     },
     "metadata": {},
     "output_type": "display_data"
    },
    {
     "data": {
      "image/png": "[encoded data removed]",
      "text/plain": [
       "<matplotlib.figure.Figure at 0x7efe28473908>"
      ]
     },
     "metadata": {},
     "output_type": "display_data"
    }
   ],
   "source": [
    "### Run the predictions here and use the model to output the prediction for each image.\n",
    "### Make sure to pre-process the images with the same pre-processing pipeline used earlier.\n",
    "### Feel free to use as many code cells as needed.\n",
    "X_my_test = pre_process_dataset(X_my_test)\n",
    "\n",
    "def predict(X_data, y_data):\n",
    "    num_examples = len(X_data)\n",
    "    total_accuracy = 0\n",
    "    sess = tf.get_default_session()\n",
    "    \n",
    "    results = sess.run(tf.argmax(logits, 1), feed_dict={x: X_data, keep_prob: 1})\n",
    "    expectations = sess.run(tf.argmax(one_hot_y, 1), feed_dict={y: y_data})\n",
    "#     accuracy = sess.run(accuracy_operation, feed_dict={x: X_data, y: y_data})\n",
    "    return (results, expectations)\n",
    "#     print('accuracy: ', accuracy)\n",
    "#     total_accuracy += (accuracy * len(batch_x))\n",
    "#     return total_accuracy / num_examples\n",
    "\n",
    "results = []\n",
    "expectations = []\n",
    "\n",
    "with tf.Session() as sess:\n",
    "    saver.restore(sess, tf.train.latest_checkpoint('.'))\n",
    "    results, expectations = predict(X_my_test, y_my_test)\n",
    "    print('expectations')\n",
    "    print(expectations)\n",
    "    print('results')\n",
    "    print(results)\n",
    "    for entry in results:\n",
    "        index = np.where(y_train==[entry])[0][10]\n",
    "        image = X_train[index].squeeze()\n",
    "        plt.figure(figsize=(1,1))\n",
    "        plt.imshow(image, cmap=\"gray\")"
   ]
  },
  {
   "cell_type": "markdown",
   "metadata": {},
   "source": [
    "### Analyze Performance"
   ]
  },
  {
   "cell_type": "code",
   "execution_count": 13,
   "metadata": {
    "collapsed": false
   },
   "outputs": [
    {
     "name": "stdout",
     "output_type": "stream",
     "text": [
      "Total Accuracy = 0.400\n"
     ]
    }
   ],
   "source": [
    "### Calculate the accuracy for these 5 new images. \n",
    "### For example, if the model predicted 1 out of 5 signs correctly, it's 20% accurate on these new images.\n",
    "n_right = 0\n",
    "for i in range(len(results)):\n",
    "    if results[i] == expectations[i]:\n",
    "        n_right += 1\n",
    "\n",
    "accuracy = n_right / len(results)\n",
    "\n",
    "print(\"Total Accuracy = {:.3f}\".format(accuracy))"
   ]
  },
  {
   "cell_type": "markdown",
   "metadata": {},
   "source": [
    "### Output Top 5 Softmax Probabilities For Each Image Found on the Web"
   ]
  },
  {
   "cell_type": "markdown",
   "metadata": {},
   "source": [
    "For each of the new images, print out the model's softmax probabilities to show the **certainty** of the model's predictions (limit the output to the top 5 probabilities for each image). [`tf.nn.top_k`](https://www.tensorflow.org/versions/r0.12/api_docs/python/nn.html#top_k) could prove helpful here. \n",
    "\n",
    "The example below demonstrates how tf.nn.top_k can be used to find the top k predictions for each image.\n",
    "\n",
    "`tf.nn.top_k` will return the values and indices (class ids) of the top k predictions. So if k=3, for each sign, it'll return the 3 largest probabilities (out of a possible 43) and the correspoding class ids.\n",
    "\n",
    "Take this numpy array as an example. The values in the array represent predictions. The array contains softmax probabilities for five candidate images with six possible classes. `tk.nn.top_k` is used to choose the three classes with the highest probability:\n",
    "\n",
    "```\n",
    "# (5, 6) array\n",
    "a = np.array([[ 0.24879643,  0.07032244,  0.12641572,  0.34763842,  0.07893497,\n",
    "         0.12789202],\n",
    "       [ 0.28086119,  0.27569815,  0.08594638,  0.0178669 ,  0.18063401,\n",
    "         0.15899337],\n",
    "       [ 0.26076848,  0.23664738,  0.08020603,  0.07001922,  0.1134371 ,\n",
    "         0.23892179],\n",
    "       [ 0.11943333,  0.29198961,  0.02605103,  0.26234032,  0.1351348 ,\n",
    "         0.16505091],\n",
    "       [ 0.09561176,  0.34396535,  0.0643941 ,  0.16240774,  0.24206137,\n",
    "         0.09155967]])\n",
    "```\n",
    "\n",
    "Running it through `sess.run(tf.nn.top_k(tf.constant(a), k=3))` produces:\n",
    "\n",
    "```\n",
    "TopKV2(values=array([[ 0.34763842,  0.24879643,  0.12789202],\n",
    "       [ 0.28086119,  0.27569815,  0.18063401],\n",
    "       [ 0.26076848,  0.23892179,  0.23664738],\n",
    "       [ 0.29198961,  0.26234032,  0.16505091],\n",
    "       [ 0.34396535,  0.24206137,  0.16240774]]), indices=array([[3, 0, 5],\n",
    "       [0, 1, 4],\n",
    "       [0, 5, 1],\n",
    "       [1, 3, 5],\n",
    "       [1, 4, 3]], dtype=int32))\n",
    "```\n",
    "\n",
    "Looking just at the first row we get `[ 0.34763842,  0.24879643,  0.12789202]`, you can confirm these are the 3 largest probabilities in `a`. You'll also notice `[3, 0, 5]` are the corresponding indices."
   ]
  },
  {
   "cell_type": "code",
   "execution_count": 15,
   "metadata": {
    "collapsed": false
   },
   "outputs": [
    {
     "name": "stdout",
     "output_type": "stream",
     "text": [
      "TopKV2(values=array([[  3.45631540e-01,   2.29032040e-01,   1.34597436e-01,\n",
      "          1.31529883e-01,   8.42337534e-02],\n",
      "       [  1.00000000e+00,   1.01232659e-18,   7.27089820e-21,\n",
      "          6.80743472e-21,   3.96610662e-22],\n",
      "       [  8.46213877e-01,   8.86809304e-02,   5.42698763e-02,\n",
      "          5.27702458e-03,   3.61815351e-03],\n",
      "       [  1.00000000e+00,   6.34926375e-23,   1.19605698e-32,\n",
      "          4.68325472e-33,   2.64811676e-33],\n",
      "       [  2.26144612e-01,   1.14360899e-01,   6.52153194e-02,\n",
      "          5.38156070e-02,   5.10743782e-02]], dtype=float32), indices=array([[30,  9, 11, 28, 23],\n",
      "       [13,  8, 35, 12,  1],\n",
      "       [ 2,  3,  5, 10,  9],\n",
      "       [17,  3,  8, 12,  0],\n",
      "       [ 1,  9,  2,  4, 12]], dtype=int32))\n"
     ]
    }
   ],
   "source": [
    "### Print out the top five softmax probabilities for the predictions on the German traffic sign images found on the web. \n",
    "### Feel free to use as many code cells as needed.\n",
    "def softmax (X_data):\n",
    "    num_examples = len(X_data)\n",
    "    sess = tf.get_default_session()\n",
    "    \n",
    "    a = sess.run(tf.nn.softmax(logits), feed_dict={x: X_data, keep_prob: 1})\n",
    "    return sess.run(tf.nn.top_k(tf.constant(a), k=5))\n",
    "    \n",
    "with tf.Session() as sess:\n",
    "    saver.restore(sess, tf.train.latest_checkpoint('.'))\n",
    "    result = softmax(X_my_test)\n",
    "    print(result)"
   ]
  },
  {
   "cell_type": "markdown",
   "metadata": {},
   "source": [
    "> **Note**: Once you have completed all of the code implementations, you need to finalize your work by exporting the IPython Notebook as an HTML document. Before exporting the notebook to html, all of the code cells need to have been run. You can then export the notebook by using the menu above and navigating to  \\n\",\n",
    "    \"**File -> Download as -> HTML (.html)**. Include the finished document along with this notebook as your submission. "
   ]
  },
  {
   "cell_type": "markdown",
   "metadata": {},
   "source": [
    "### Project Writeup\n",
    "\n",
    "Once you have completed the code implementation, document your results in a project writeup using this [template](https://github.com/udacity/CarND-Traffic-Sign-Classifier-Project/blob/master/writeup_template.md) as a guide. The writeup can be in a markdown or pdf file. "
   ]
  }
 ],
 "metadata": {
  "anaconda-cloud": {},
  "kernelspec": {
   "display_name": "Python 3",
   "language": "python",
   "name": "python3"
  },
  "language_info": {
   "codemirror_mode": {
    "name": "ipython",
    "version": 3
   },
   "file_extension": ".py",
   "mimetype": "text/x-python",
   "name": "python",
   "nbconvert_exporter": "python",
   "pygments_lexer": "ipython3",
   "version": "3.5.2"
  },
  "widgets": {
   "state": {},
   "version": "1.1.2"
  }
 },
 "nbformat": 4,
 "nbformat_minor": 1
}
